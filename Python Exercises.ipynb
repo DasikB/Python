{
 "cells": [
  {
   "cell_type": "markdown",
   "metadata": {},
   "source": [
    "# Python Exercises\n",
    "\n",
    "\n",
    "## In Range\n",
    "\n",
    "Write a function that checks whether a number is in a given range (inclusive of high and low)"
   ]
  },
  {
   "cell_type": "code",
   "execution_count": 1,
   "metadata": {},
   "outputs": [
    {
     "data": {
      "text/plain": [
       "True"
      ]
     },
     "execution_count": 1,
     "metadata": {},
     "output_type": "execute_result"
    }
   ],
   "source": [
    "def in_range(num,low,high):\n",
    "    return num in range(low,high+1)\n",
    "\n",
    "in_range(10,2,10)"
   ]
  },
  {
   "cell_type": "markdown",
   "metadata": {},
   "source": [
    "## Multiply\n",
    "\n",
    "Write a Python function to multiply all the numbers in a list."
   ]
  },
  {
   "cell_type": "code",
   "execution_count": 2,
   "metadata": {},
   "outputs": [
    {
     "data": {
      "text/plain": [
       "-24"
      ]
     },
     "execution_count": 2,
     "metadata": {},
     "output_type": "execute_result"
    }
   ],
   "source": [
    "def multiply(numbers):  \n",
    "    result=1\n",
    "    for x in numbers:\n",
    "        result=result*x\n",
    "    return result\n",
    "\n",
    "multiply([1,2,3,-4])"
   ]
  },
  {
   "cell_type": "markdown",
   "metadata": {},
   "source": [
    "## Even\n",
    "\n",
    "Define function that takes in an arbitrary number of arguments and return a list containing only those arguments that are even"
   ]
  },
  {
   "cell_type": "code",
   "execution_count": 3,
   "metadata": {},
   "outputs": [
    {
     "data": {
      "text/plain": [
       "[2, 4, 6]"
      ]
     },
     "execution_count": 3,
     "metadata": {},
     "output_type": "execute_result"
    }
   ],
   "source": [
    "def even(*args):\n",
    "    even_list = []\n",
    "    for x in args:\n",
    "        if x % 2 == 0:\n",
    "            even_list.append(x)\n",
    "    return even_list\n",
    "\n",
    "even(1,2,3,4,5,6,7)"
   ]
  },
  {
   "cell_type": "markdown",
   "metadata": {},
   "source": [
    "## Upper/Lowercase StRiNg\n",
    "\n",
    "Define function that takes a string and returns a matching string \n",
    "where every even letter is uppercase and every odd letter is lowercase"
   ]
  },
  {
   "cell_type": "code",
   "execution_count": 4,
   "metadata": {},
   "outputs": [
    {
     "data": {
      "text/plain": [
       "'aBcDeFgHi'"
      ]
     },
     "execution_count": 4,
     "metadata": {},
     "output_type": "execute_result"
    }
   ],
   "source": [
    "def myfunc(mystring):\n",
    "    newstring = \"\"\n",
    "    for i in range(0,len(mystring)):\n",
    "        if i%2 == 0:\n",
    "            newstring += mystring[i].lower()\n",
    "        else:\n",
    "            newstring += mystring[i].upper()\n",
    "    return newstring\n",
    "\n",
    "myfunc(\"Abcdefghi\")"
   ]
  },
  {
   "cell_type": "markdown",
   "metadata": {},
   "source": [
    "## Count Uppercase/Lowercase Characters\n",
    "\n",
    "Write a Python function that accepts a string and calculates the number of upper case letters and lower case letters."
   ]
  },
  {
   "cell_type": "code",
   "execution_count": 5,
   "metadata": {},
   "outputs": [
    {
     "name": "stdout",
     "output_type": "stream",
     "text": [
      "Original String :  Hello Mr. Rogers, how are you this fine Tuesday?\n",
      "No. of Upper case Characters: 4\n",
      "No. of Lower case Characters: 33\n"
     ]
    }
   ],
   "source": [
    "def up_low(mystring):\n",
    "    upper = []\n",
    "    lower = []\n",
    "    for i in mystring:\n",
    "        if i.isupper():\n",
    "            upper.append(i)\n",
    "        elif i.islower():\n",
    "            lower.append(i)\n",
    "    print(\"Original String : \", mystring)\n",
    "    print(f'No. of Upper case Characters: {len(upper)}')\n",
    "    print(f'No. of Lower case Characters: {len(lower)}')\n",
    "    \n",
    "up_low('Hello Mr. Rogers, how are you this fine Tuesday?')"
   ]
  },
  {
   "cell_type": "code",
   "execution_count": 6,
   "metadata": {},
   "outputs": [
    {
     "name": "stdout",
     "output_type": "stream",
     "text": [
      "Original String :  Hello Mr. Rogers, how are you this fine Tuesday?\n",
      "No. of Upper case characters :  4\n",
      "No. of Lower case characters : 33\n"
     ]
    }
   ],
   "source": [
    "# different approach - dictionary\n",
    "\n",
    "def up_low(s):\n",
    "    d={\"upper\":0, \"lower\":0}\n",
    "    for letter in s:\n",
    "        if letter.isupper():\n",
    "            d[\"upper\"]+=1\n",
    "        elif letter.islower():\n",
    "            d[\"lower\"]+=1\n",
    "        else:\n",
    "            pass\n",
    "    print(\"Original String : \", s)\n",
    "    print(\"No. of Upper case characters : \", d[\"upper\"])\n",
    "    print(f'No. of Lower case characters : {d[\"lower\"]}')\n",
    "    \n",
    "up_low('Hello Mr. Rogers, how are you this fine Tuesday?')"
   ]
  },
  {
   "cell_type": "markdown",
   "metadata": {},
   "source": [
    "## Sorted\n",
    "\n",
    "Sort the list without using the sorted function"
   ]
  },
  {
   "cell_type": "code",
   "execution_count": 7,
   "metadata": {},
   "outputs": [
    {
     "data": {
      "text/plain": [
       "[2, 3, 3, 5, 8, 10, 10, 13, 60, 99]"
      ]
     },
     "execution_count": 7,
     "metadata": {},
     "output_type": "execute_result"
    }
   ],
   "source": [
    "def sort(mylist):\n",
    "    n=0\n",
    "    mylist_sorted=[]\n",
    "    while len(mylist) != len(mylist_sorted):\n",
    "        for x in mylist:\n",
    "            if x == n:\n",
    "                mylist_sorted.append(x)\n",
    "        n +=1\n",
    "    return mylist_sorted\n",
    "\n",
    "sort([3,2,3,10,99,13,8,10,60,5])"
   ]
  },
  {
   "cell_type": "code",
   "execution_count": 8,
   "metadata": {},
   "outputs": [
    {
     "data": {
      "text/plain": [
       "[2, 3, 3, 5, 8, 10, 10, 13, 60, 99]"
      ]
     },
     "execution_count": 8,
     "metadata": {},
     "output_type": "execute_result"
    }
   ],
   "source": [
    "# different approach (faster)\n",
    "\n",
    "mylist = [3,2,10,99,13,8,10,60,5]\n",
    "def sort(mylist):\n",
    "    changed = True\n",
    "    while changed:\n",
    "        changed = False\n",
    "        for i in range(0,len(mylist)-1):\n",
    "            if mylist[i]>mylist[i+1]:\n",
    "                tmp=mylist[i]\n",
    "                mylist[i]=mylist[i+1]\n",
    "                mylist[i+1]=tmp\n",
    "                changed = True\n",
    "    return mylist\n",
    "\n",
    "sort([3,2,3,10,99,13,8,10,60,5])"
   ]
  },
  {
   "cell_type": "markdown",
   "metadata": {},
   "source": [
    "## Halving\n",
    "\n",
    "Splitting the list into 2 halves"
   ]
  },
  {
   "cell_type": "code",
   "execution_count": 9,
   "metadata": {},
   "outputs": [
    {
     "name": "stdout",
     "output_type": "stream",
     "text": [
      "[1, 3, 2, 5]\n",
      "[13, 99, 100]\n"
     ]
    }
   ],
   "source": [
    "# first approach\n",
    "\n",
    "mylist = [1,3,2,5,13,99,100]\n",
    "list_a = []\n",
    "list_b = []\n",
    "\n",
    "n = len(mylist)\n",
    "\n",
    "for x in mylist:\n",
    "    if len(list_a) < len(mylist)/2:\n",
    "        list_a.append(x)\n",
    "    else:\n",
    "        list_b.append(x)\n",
    "\n",
    "\n",
    "print(list_a)\n",
    "print(list_b)"
   ]
  },
  {
   "cell_type": "code",
   "execution_count": 10,
   "metadata": {},
   "outputs": [
    {
     "name": "stdout",
     "output_type": "stream",
     "text": [
      "[1, 3, 2]\n",
      "[5, 13, 99, 100]\n"
     ]
    }
   ],
   "source": [
    "# second approach\n",
    "\n",
    "mylist = [1,3,2,5,13,99,100]\n",
    "list_a = []\n",
    "list_b = []\n",
    "\n",
    "n = len(mylist)\n",
    "\n",
    "for i in range(0,n//2): \n",
    "    list_a.append(mylist[i])\n",
    "for i in range(n//2,n):\n",
    "    list_b.append(mylist[i])\n",
    "\n",
    "print(list_a)\n",
    "print(list_b)"
   ]
  },
  {
   "cell_type": "markdown",
   "metadata": {},
   "source": [
    "## Lesser of Two Evens\n",
    "\n",
    "Write a function that returns the lesser of two given numbers if both numbers are even, but returns the greater if one or both numbers are odd"
   ]
  },
  {
   "cell_type": "code",
   "execution_count": 11,
   "metadata": {},
   "outputs": [
    {
     "data": {
      "text/plain": [
       "2"
      ]
     },
     "execution_count": 11,
     "metadata": {},
     "output_type": "execute_result"
    }
   ],
   "source": [
    "def lesser_evens(num1,num2):\n",
    "    if num1%2 == 0 and num2%2 == 0:\n",
    "        if num1 < num2:\n",
    "            return num1\n",
    "        elif num2 < num1:\n",
    "            return num2\n",
    "        else:\n",
    "            return num1,num2\n",
    "    else:\n",
    "        if num1 > num2:\n",
    "            return num1\n",
    "        elif num2 > num1:\n",
    "            return num2\n",
    "        else:\n",
    "            return num1,num2 \n",
    "        \n",
    "lesser_evens(4,2)"
   ]
  },
  {
   "cell_type": "code",
   "execution_count": 12,
   "metadata": {},
   "outputs": [
    {
     "data": {
      "text/plain": [
       "3"
      ]
     },
     "execution_count": 12,
     "metadata": {},
     "output_type": "execute_result"
    }
   ],
   "source": [
    "# different approach (using min/max)\n",
    "\n",
    "def lesser_evens2(a,b):\n",
    "    if a%2 == 0 and b%2 == 0:\n",
    "        return min(a,b)\n",
    "    else:\n",
    "        return max(a,b)\n",
    "    \n",
    "lesser_evens2(3,2)"
   ]
  },
  {
   "cell_type": "markdown",
   "metadata": {},
   "source": [
    "## FizzBuzz\n",
    "\n",
    "Print integers 1 to n, but print “Fizz” if an integer is divisible by 3, “Buzz” if an integer is divisible by 5, and “FizzBuzz” if an integer is divisible by both 3 and 5."
   ]
  },
  {
   "cell_type": "code",
   "execution_count": 13,
   "metadata": {},
   "outputs": [
    {
     "name": "stdout",
     "output_type": "stream",
     "text": [
      "1\n",
      "2\n",
      "Fizz\n",
      "4\n",
      "Buzz\n",
      "Fizz\n",
      "7\n",
      "8\n",
      "Fizz\n",
      "Buzz\n",
      "11\n",
      "Fizz\n",
      "13\n",
      "14\n",
      "FizzBuzz\n"
     ]
    }
   ],
   "source": [
    "def fizzbuzz(n):\n",
    "    for x in range(1,n+1):\n",
    "        if x % 3 == 0 and x % 5 == 0:\n",
    "            print(\"FizzBuzz\")\n",
    "        elif x % 3 == 0:\n",
    "            print(\"Fizz\")\n",
    "        elif x % 5 == 0:\n",
    "            print(\"Buzz\")\n",
    "        else:\n",
    "            print(x) \n",
    "\n",
    "fizzbuzz(15)"
   ]
  },
  {
   "cell_type": "code",
   "execution_count": 14,
   "metadata": {},
   "outputs": [
    {
     "data": {
      "text/plain": [
       "['fizzbuzz', 22, 14, 'buzz', 97, 'fizz']"
      ]
     },
     "execution_count": 14,
     "metadata": {},
     "output_type": "execute_result"
    }
   ],
   "source": [
    "# Fizzbuzz for a list of integers\n",
    "\n",
    "numbers = [45, 22, 14, 65, 97, 72]\n",
    "for i in range(len(numbers)):\n",
    "    if numbers[i] % 3 == 0 and numbers[i] % 5 == 0:\n",
    "        numbers[i] = \"fizzbuzz\"\n",
    "    elif numbers[i] % 3 == 0:\n",
    "        numbers[i] = \"fizz\"\n",
    "    elif numbers[i] % 5 == 0:\n",
    "        numbers[i] = \"buzz\"\n",
    "numbers"
   ]
  },
  {
   "cell_type": "code",
   "execution_count": 15,
   "metadata": {},
   "outputs": [
    {
     "data": {
      "text/plain": [
       "['fizzbuzz', 22, 14, 'buzz', 97, 'fizz']"
      ]
     },
     "execution_count": 15,
     "metadata": {},
     "output_type": "execute_result"
    }
   ],
   "source": [
    "# Fizzbuzz for a list of integers - using enumerate\n",
    "\n",
    "numbers = [45, 22, 14, 65, 97, 72]\n",
    "for i, num in enumerate(numbers):\n",
    "    if num % 3 == 0 and num % 5 == 0:\n",
    "        numbers[i] = 'fizzbuzz'\n",
    "    elif num % 3 == 0:\n",
    "        numbers[i] = 'fizz'\n",
    "    elif num % 5 == 0:\n",
    "        numbers[i] = 'buzz'\n",
    "numbers"
   ]
  },
  {
   "cell_type": "markdown",
   "metadata": {},
   "source": [
    "## Animal Crackers\n",
    "\n",
    "Two-word string and returns True if both words begin with same letter¶"
   ]
  },
  {
   "cell_type": "code",
   "execution_count": 16,
   "metadata": {},
   "outputs": [
    {
     "data": {
      "text/plain": [
       "True"
      ]
     },
     "execution_count": 16,
     "metadata": {},
     "output_type": "execute_result"
    }
   ],
   "source": [
    "def animal_crackers(mystring):\n",
    "    words = mystring.split()\n",
    "    return words[0][0] == words[1][0]\n",
    "\n",
    "animal_crackers('Levelheaded Llama') == True and animal_crackers('Crazy Kangaroo') == False"
   ]
  },
  {
   "cell_type": "markdown",
   "metadata": {},
   "source": [
    "## Makes Twenty\n",
    "\n",
    "Given two integers, return True if the sum of the integers is 20 or if one of the integers is 20. If not, return False"
   ]
  },
  {
   "cell_type": "code",
   "execution_count": 17,
   "metadata": {},
   "outputs": [
    {
     "data": {
      "text/plain": [
       "True"
      ]
     },
     "execution_count": 17,
     "metadata": {},
     "output_type": "execute_result"
    }
   ],
   "source": [
    "def makes_twenty(a,b):\n",
    "    return a==20 or b==20 or a+b==20\n",
    "\n",
    "makes_twenty(20,10) == True and makes_twenty(12,8) == True and makes_twenty(2,3) == False"
   ]
  },
  {
   "cell_type": "markdown",
   "metadata": {},
   "source": [
    "## Old MacDonald\n",
    "\n",
    "Write a function that capitalizes the first and fourth letters of a name "
   ]
  },
  {
   "cell_type": "code",
   "execution_count": 18,
   "metadata": {},
   "outputs": [
    {
     "data": {
      "text/plain": [
       "True"
      ]
     },
     "execution_count": 18,
     "metadata": {},
     "output_type": "execute_result"
    }
   ],
   "source": [
    "def old_macdonald(name):\n",
    "    if len(name)>3: \n",
    "        return name[:3].capitalize() + name[3:].capitalize()\n",
    "    else:\n",
    "        return 'Name is too short!'\n",
    "\n",
    "old_macdonald('macdonald') == 'MacDonald'"
   ]
  },
  {
   "cell_type": "markdown",
   "metadata": {},
   "source": [
    "## First word\n",
    "\n",
    "Write a function to find the first word in a string"
   ]
  },
  {
   "cell_type": "code",
   "execution_count": 19,
   "metadata": {},
   "outputs": [
    {
     "data": {
      "text/plain": [
       "'hello'"
      ]
     },
     "execution_count": 19,
     "metadata": {},
     "output_type": "execute_result"
    }
   ],
   "source": [
    "def first_word(mystring):\n",
    "    result = ''\n",
    "    for x in mystring:\n",
    "        if x != ' ':\n",
    "            result += x\n",
    "        else:\n",
    "            break\n",
    "    return result\n",
    "\n",
    "first_word(\"hello world\")\n",
    "            "
   ]
  },
  {
   "cell_type": "code",
   "execution_count": 20,
   "metadata": {},
   "outputs": [
    {
     "data": {
      "text/plain": [
       "'hello'"
      ]
     },
     "execution_count": 20,
     "metadata": {},
     "output_type": "execute_result"
    }
   ],
   "source": [
    "# different approach\n",
    "\n",
    "def first_word(mystring):\n",
    "    return mystring.split()[0]\n",
    "\n",
    "first_word(\"hello world\")"
   ]
  },
  {
   "cell_type": "markdown",
   "metadata": {},
   "source": [
    "## Master Yoda\n",
    "\n",
    "Given a sentence, return a sentence with the words reversed"
   ]
  },
  {
   "cell_type": "code",
   "execution_count": 21,
   "metadata": {},
   "outputs": [
    {
     "data": {
      "text/plain": [
       "True"
      ]
     },
     "execution_count": 21,
     "metadata": {},
     "output_type": "execute_result"
    }
   ],
   "source": [
    "def master_yoda(sentence):\n",
    "    return ' '.join(sentence.split()[::-1])\n",
    "\n",
    "master_yoda('I am home') == 'home am I' and master_yoda('We are ready') == 'ready are We'"
   ]
  },
  {
   "cell_type": "markdown",
   "metadata": {},
   "source": [
    "## Almost There\n",
    "\n",
    "Given an integer n, return True if n is within 10 of either 100 or 200"
   ]
  },
  {
   "cell_type": "code",
   "execution_count": 22,
   "metadata": {},
   "outputs": [
    {
     "data": {
      "text/plain": [
       "True"
      ]
     },
     "execution_count": 22,
     "metadata": {},
     "output_type": "execute_result"
    }
   ],
   "source": [
    "def almost_there(n):\n",
    "    return n in range(90,111) or n in range(190,211)\n",
    "\n",
    "almost_there(90) == True and almost_there(104) == True and almost_there(150) == False and almost_there(209) == True"
   ]
  },
  {
   "cell_type": "code",
   "execution_count": 23,
   "metadata": {},
   "outputs": [
    {
     "data": {
      "text/plain": [
       "True"
      ]
     },
     "execution_count": 23,
     "metadata": {},
     "output_type": "execute_result"
    }
   ],
   "source": [
    "# different approach\n",
    "\n",
    "def almost_there(n):\n",
    "    return (abs(n-100) <= 10) or (abs(n-200) <= 10)\n",
    "\n",
    "almost_there(90) == True and almost_there(104) == True and almost_there(150) == False and almost_there(209) == True"
   ]
  },
  {
   "cell_type": "markdown",
   "metadata": {},
   "source": [
    "## Find 33\n",
    "\n",
    "Given a list of ints, return True if the array contains a 3 next to a 3 somewhere."
   ]
  },
  {
   "cell_type": "code",
   "execution_count": 24,
   "metadata": {},
   "outputs": [
    {
     "data": {
      "text/plain": [
       "True"
      ]
     },
     "execution_count": 24,
     "metadata": {},
     "output_type": "execute_result"
    }
   ],
   "source": [
    "def find_33(mylist):\n",
    "    for i in range(1,len(mylist)):\n",
    "        if mylist[i] == 3 and mylist[i-1] == 3:\n",
    "            return True\n",
    "    return False\n",
    "\n",
    "find_33([1, 3, 3]) == True and find_33([1, 3, 1, 3]) == False and find_33([3, 1, 3]) == False"
   ]
  },
  {
   "cell_type": "code",
   "execution_count": 25,
   "metadata": {},
   "outputs": [
    {
     "data": {
      "text/plain": [
       "True"
      ]
     },
     "execution_count": 25,
     "metadata": {},
     "output_type": "execute_result"
    }
   ],
   "source": [
    "# different approach\n",
    "\n",
    "def find_33(mylist):\n",
    "    for i in range(0, len(mylist)-1):\n",
    "        if mylist[i:i+2] == [3,3]:\n",
    "            return True  \n",
    "    return False\n",
    "\n",
    "find_33([1, 3, 3]) == True and find_33([1, 3, 1, 3]) == False and find_33([3, 1, 3]) == False"
   ]
  },
  {
   "cell_type": "markdown",
   "metadata": {},
   "source": [
    "## Paper Doll\n",
    "\n",
    "Given a string, return a string where for every character in the original there are three characters"
   ]
  },
  {
   "cell_type": "code",
   "execution_count": 26,
   "metadata": {},
   "outputs": [
    {
     "data": {
      "text/plain": [
       "True"
      ]
     },
     "execution_count": 26,
     "metadata": {},
     "output_type": "execute_result"
    }
   ],
   "source": [
    "def paper_doll(text):\n",
    "    result = ''\n",
    "    for char in text:\n",
    "        result += char * 3\n",
    "    return result\n",
    "\n",
    "paper_doll('Hello') == 'HHHeeellllllooo' and paper_doll('Mississippi') == 'MMMiiissssssiiissssssiiippppppiii'"
   ]
  },
  {
   "cell_type": "markdown",
   "metadata": {},
   "source": [
    "## BlackJack\n",
    "    \n",
    "Given three integers between 1 and 11, if their sum is less than or equal to 21, return their sum. If their sum exceeds 21 and there's an eleven, reduce the total sum by 10. Finally, if the sum (even after adjustment) exceeds 21, return 'BUST'"
   ]
  },
  {
   "cell_type": "code",
   "execution_count": 27,
   "metadata": {},
   "outputs": [
    {
     "data": {
      "text/plain": [
       "True"
      ]
     },
     "execution_count": 27,
     "metadata": {},
     "output_type": "execute_result"
    }
   ],
   "source": [
    "def blackjack(a,b,c):\n",
    "    if sum((a,b,c)) <= 21:\n",
    "        return sum((a,b,c))\n",
    "    elif sum((a,b,c)) <=31 and 11 in (a,b,c):\n",
    "        return sum((a,b,c)) - 10\n",
    "    else:\n",
    "        return 'BUST'\n",
    "    \n",
    "blackjack(5,6,7) == 18 and blackjack(9,9,9) == 'BUST' and blackjack(9,9,11) == 19"
   ]
  },
  {
   "cell_type": "markdown",
   "metadata": {},
   "source": [
    "## Summer of '69\n",
    "\n",
    "Return the sum of the numbers in the array, except ignore sections of numbers starting with a 6 and extending to the next 9 (every 6 will be followed by at least one 9). Return 0 for no numbers."
   ]
  },
  {
   "cell_type": "code",
   "execution_count": 28,
   "metadata": {},
   "outputs": [
    {
     "data": {
      "text/plain": [
       "True"
      ]
     },
     "execution_count": 28,
     "metadata": {},
     "output_type": "execute_result"
    }
   ],
   "source": [
    "def summer_69(array):\n",
    "    result = 0\n",
    "    add = True\n",
    "    for x in array:\n",
    "        if add == True:\n",
    "            if x != 6:\n",
    "                result += x\n",
    "            else:\n",
    "                add = False\n",
    "        else:\n",
    "            if x == 9:\n",
    "                add = True\n",
    "    return result\n",
    "\n",
    "summer_69([1, 3, 5]) == 9 and summer_69([4, 5, 6, 7, 8, 9]) == 9 and summer_69([2, 1, 6, 9, 11]) == 14"
   ]
  },
  {
   "cell_type": "markdown",
   "metadata": {},
   "source": [
    "## Spy Game\n",
    "\n",
    "Write a function that takes in a list of integers and returns True if it contains 007 in order"
   ]
  },
  {
   "cell_type": "code",
   "execution_count": 29,
   "metadata": {},
   "outputs": [
    {
     "data": {
      "text/plain": [
       "True"
      ]
     },
     "execution_count": 29,
     "metadata": {},
     "output_type": "execute_result"
    }
   ],
   "source": [
    "def spy_game(mylist):\n",
    "    count_zero = 0\n",
    "    for x in mylist:\n",
    "        if x == 0:\n",
    "            count_zero += 1\n",
    "        elif count_zero > 1 and x == 7:\n",
    "                return True\n",
    "    return False\n",
    "    \n",
    "spy_game([1,2,4,0,0,7,5]) == True and spy_game([1,0,2,4,0,5,7]) == True and spy_game([1,7,2,0,4,5,0]) == False"
   ]
  },
  {
   "cell_type": "markdown",
   "metadata": {},
   "source": [
    "## End zeros\n",
    "\n",
    "Try to find out how many zeros a given number has at the end.\n",
    "Input: A positive Int"
   ]
  },
  {
   "cell_type": "code",
   "execution_count": 30,
   "metadata": {},
   "outputs": [
    {
     "data": {
      "text/plain": [
       "True"
      ]
     },
     "execution_count": 30,
     "metadata": {},
     "output_type": "execute_result"
    }
   ],
   "source": [
    "def end_zeros(num):\n",
    "    count = 0\n",
    "    for x in range (1,len(str(num))+1):\n",
    "        if str(num)[-x] == \"0\":\n",
    "            count += 1\n",
    "        else:\n",
    "            break\n",
    "    return count\n",
    "\n",
    "end_zeros(10100) == 2 and end_zeros(101) == 0"
   ]
  },
  {
   "cell_type": "markdown",
   "metadata": {},
   "source": [
    "## Flatten a list \n",
    "\n",
    "Find different ways how to flatten a list [[1,2,3],[4,5,6],[7,8,9]]"
   ]
  },
  {
   "cell_type": "code",
   "execution_count": 31,
   "metadata": {},
   "outputs": [
    {
     "data": {
      "text/plain": [
       "[1, 2, 3, 4, 5, 6, 7, 8, 9]"
      ]
     },
     "execution_count": 31,
     "metadata": {},
     "output_type": "execute_result"
    }
   ],
   "source": [
    "# +=\n",
    "\n",
    "def flatten(mylist):\n",
    "    result = []\n",
    "    for i in mylist:\n",
    "        result += i\n",
    "    return result\n",
    "\n",
    "flatten([[1,2,3],[4,5,6],[7,8,9]])"
   ]
  },
  {
   "cell_type": "code",
   "execution_count": 32,
   "metadata": {},
   "outputs": [
    {
     "data": {
      "text/plain": [
       "[1, 2, 3, 4, 5, 6, 7, 8, 9]"
      ]
     },
     "execution_count": 32,
     "metadata": {},
     "output_type": "execute_result"
    }
   ],
   "source": [
    "# extend\n",
    "\n",
    "def flatten(mylist):\n",
    "    result = []\n",
    "    for i in mylist:\n",
    "        result.extend(i)\n",
    "    return result\n",
    "\n",
    "flatten([[1,2,3],[4,5,6],[7,8,9]])"
   ]
  },
  {
   "cell_type": "code",
   "execution_count": 33,
   "metadata": {},
   "outputs": [
    {
     "data": {
      "text/plain": [
       "[1, 2, 3, 4, 5, 6, 7, 8, 9]"
      ]
     },
     "execution_count": 33,
     "metadata": {},
     "output_type": "execute_result"
    }
   ],
   "source": [
    "# append\n",
    "\n",
    "def flatten(mylist):\n",
    "    result = []\n",
    "    for sublist in mylist:\n",
    "        for number in sublist:\n",
    "            result.append(number)\n",
    "    return result\n",
    "\n",
    "flatten([[1,2,3],[4,5,6],[7,8,9]])"
   ]
  },
  {
   "cell_type": "code",
   "execution_count": 34,
   "metadata": {},
   "outputs": [
    {
     "data": {
      "text/plain": [
       "[1, 2, 3, 4, 5, 6, 7, 8, 9]"
      ]
     },
     "execution_count": 34,
     "metadata": {},
     "output_type": "execute_result"
    }
   ],
   "source": [
    "# list comprehension\n",
    "\n",
    "def flatten(mylist):\n",
    "    return [number for sublist in mylist for number in sublist]\n",
    "\n",
    "flatten([[1,2,3],[4,5,6],[7,8,9]])"
   ]
  },
  {
   "cell_type": "markdown",
   "metadata": {},
   "source": [
    "## Count Primes\n",
    "\n",
    "Write a function that returns the number of prime numbers that exist up to and including a given number. By convention, 0 and 1 are not prime."
   ]
  },
  {
   "cell_type": "code",
   "execution_count": 35,
   "metadata": {},
   "outputs": [
    {
     "data": {
      "text/plain": [
       "True"
      ]
     },
     "execution_count": 35,
     "metadata": {},
     "output_type": "execute_result"
    }
   ],
   "source": [
    "def count_primes(num):\n",
    "    if num < 2:\n",
    "        return 0\n",
    "    numbers = []\n",
    "    primes_count = 0\n",
    "    for i in range(2,num+1):\n",
    "        numbers.append(i)\n",
    "        for x in numbers:\n",
    "            if i == x:\n",
    "                primes_count +=1\n",
    "            elif i % x == 0:\n",
    "                break\n",
    "    return primes_count\n",
    "\n",
    "count_primes(100) == 25"
   ]
  },
  {
   "cell_type": "code",
   "execution_count": 36,
   "metadata": {},
   "outputs": [
    {
     "data": {
      "text/plain": [
       "True"
      ]
     },
     "execution_count": 36,
     "metadata": {},
     "output_type": "execute_result"
    }
   ],
   "source": [
    "# different approach\n",
    "\n",
    "def count_primes(num):\n",
    "    if num < 2:\n",
    "        return 0\n",
    "    primes = [2]\n",
    "    for i in range(2,num+1):\n",
    "        for x in primes:\n",
    "            if i % x == 0:\n",
    "                break\n",
    "            elif x == primes[-1]:\n",
    "                primes.append(i)\n",
    "    return len(primes)\n",
    "\n",
    "count_primes(100) == 25"
   ]
  },
  {
   "cell_type": "code",
   "execution_count": 37,
   "metadata": {},
   "outputs": [
    {
     "data": {
      "text/plain": [
       "True"
      ]
     },
     "execution_count": 37,
     "metadata": {},
     "output_type": "execute_result"
    }
   ],
   "source": [
    "# different approach\n",
    "\n",
    "def count_primes(num):\n",
    "    if num < 2:\n",
    "        return 0\n",
    "    primes = [2]\n",
    "    x = 3\n",
    "    while x <= num:\n",
    "        for y in primes:\n",
    "            if x%y == 0:\n",
    "                x += 2\n",
    "                break\n",
    "        else:\n",
    "            primes.append(x)\n",
    "            x += 2\n",
    "    return len(primes)\n",
    "\n",
    "count_primes(100) == 25"
   ]
  },
  {
   "cell_type": "code",
   "execution_count": 38,
   "metadata": {},
   "outputs": [
    {
     "data": {
      "text/plain": [
       "True"
      ]
     },
     "execution_count": 38,
     "metadata": {},
     "output_type": "execute_result"
    }
   ],
   "source": [
    "# Sieve of Eratosthenes\n",
    "\n",
    "def count_primes(num):\n",
    "    result=[]\n",
    "    mylist=[True]*num\n",
    "    for i in range(1,num):\n",
    "        if mylist[i]== True:\n",
    "            result.append(i+1)\n",
    "            for j in range(2,num):\n",
    "                if (((i+1)*j)-1) >= num:\n",
    "                    continue\n",
    "                mylist[((i+1)*j)-1]=False\n",
    "    return len(result)\n",
    "    \n",
    "count_primes(100) == 25"
   ]
  },
  {
   "cell_type": "markdown",
   "metadata": {},
   "source": [
    "## Palindrome\n",
    "\n",
    "Write a Python function to check whether a string is palindrome or not."
   ]
  },
  {
   "cell_type": "code",
   "execution_count": 39,
   "metadata": {},
   "outputs": [
    {
     "data": {
      "text/plain": [
       "True"
      ]
     },
     "execution_count": 39,
     "metadata": {},
     "output_type": "execute_result"
    }
   ],
   "source": [
    "def isPalindrome(string):\n",
    "    left,right=0,len(string)-1\n",
    "    while right>=left:\n",
    "        if not string[left]==string[right]:\n",
    "            return False\n",
    "        left+=1;right-=1\n",
    "        return True\n",
    "    \n",
    "isPalindrome('redrum murder')"
   ]
  },
  {
   "cell_type": "code",
   "execution_count": 40,
   "metadata": {},
   "outputs": [
    {
     "data": {
      "text/plain": [
       "True"
      ]
     },
     "execution_count": 40,
     "metadata": {},
     "output_type": "execute_result"
    }
   ],
   "source": [
    "# different approach\n",
    "\n",
    "def palindrome(s):\n",
    "    s=s.replace(' ','')\n",
    "    return s == s[::-1]\n",
    "\n",
    "palindrome(\"nurses run\")"
   ]
  },
  {
   "cell_type": "markdown",
   "metadata": {},
   "source": [
    "Including converting all uppercase letters into lowercase letters and removing all non-alphanumeric characters (alphanumeric characters include letters and numbers):"
   ]
  },
  {
   "cell_type": "code",
   "execution_count": 41,
   "metadata": {},
   "outputs": [
    {
     "data": {
      "text/plain": [
       "True"
      ]
     },
     "execution_count": 41,
     "metadata": {},
     "output_type": "execute_result"
    }
   ],
   "source": [
    "import re\n",
    "\n",
    "def isPalindrome(s):\n",
    "    match = re.findall('\\W',s)\n",
    "    s_list = list(s.lower())\n",
    "    for x in match:\n",
    "        s_list.remove(x)\n",
    "    return s_list == s_list[::-1]\n",
    "\n",
    "isPalindrome(\"A man, a plan, a canal: Panama\")"
   ]
  },
  {
   "cell_type": "markdown",
   "metadata": {},
   "source": [
    "## Palindrome - list"
   ]
  },
  {
   "cell_type": "code",
   "execution_count": 42,
   "metadata": {},
   "outputs": [
    {
     "data": {
      "text/plain": [
       "True"
      ]
     },
     "execution_count": 42,
     "metadata": {},
     "output_type": "execute_result"
    }
   ],
   "source": [
    "def isPalindrome(mylist):\n",
    "    x=1\n",
    "    for item in mylist:\n",
    "        if item != mylist[-x]:\n",
    "            return False\n",
    "        x += 1\n",
    "    return True\n",
    "\n",
    "isPalindrome([1,2,3,4,3,2,1])"
   ]
  },
  {
   "cell_type": "code",
   "execution_count": 43,
   "metadata": {},
   "outputs": [
    {
     "data": {
      "text/plain": [
       "True"
      ]
     },
     "execution_count": 43,
     "metadata": {},
     "output_type": "execute_result"
    }
   ],
   "source": [
    "# different approach\n",
    "\n",
    "def isPalindrome(mylist):\n",
    "    for x in (0,(len(mylist))//2):\n",
    "        if mylist[x] != mylist[-(x+1)]:\n",
    "            return False\n",
    "    return True\n",
    "\n",
    "isPalindrome([1,2,3,4,3,2,1])"
   ]
  },
  {
   "cell_type": "markdown",
   "metadata": {},
   "source": [
    "## Valid Palindrome\n",
    "\n",
    "Given a string s, return true if the s can be palindrome after deleting at most one character from it."
   ]
  },
  {
   "cell_type": "code",
   "execution_count": 44,
   "metadata": {},
   "outputs": [
    {
     "data": {
      "text/plain": [
       "True"
      ]
     },
     "execution_count": 44,
     "metadata": {},
     "output_type": "execute_result"
    }
   ],
   "source": [
    "def isPalindrome(s):\n",
    "    return s == s[::-1]\n",
    "\n",
    "def validPalindrome(s):\n",
    "    left,right = 0, len(s)-1\n",
    "    while left < right:\n",
    "        if s[left] == s[right]:\n",
    "            left += 1\n",
    "            right -= 1\n",
    "        else:\n",
    "            return isPalindrome(s[(left+1):(right+1)]) or isPalindrome(s[left:right])\n",
    "    return True\n",
    "            \n",
    "validPalindrome(\"aba\") == True and validPalindrome(\"abacc\") == False and validPalindrome(\"abac\") == True"
   ]
  },
  {
   "cell_type": "markdown",
   "metadata": {},
   "source": [
    "## Pangram\n",
    "\n",
    "Write a Python function to check whether a string is pangram or not. Pangrams are words or sentences containing every letter of the alphabet at least once."
   ]
  },
  {
   "cell_type": "code",
   "execution_count": 45,
   "metadata": {},
   "outputs": [
    {
     "data": {
      "text/plain": [
       "True"
      ]
     },
     "execution_count": 45,
     "metadata": {},
     "output_type": "execute_result"
    }
   ],
   "source": [
    "def ispangram(s):\n",
    "    mylist = set(list(s.lower()))\n",
    "    alphabet = list(\"abcdefghijklmnopqrstuvwxyz\")\n",
    "    for x in mylist:\n",
    "        if x in alphabet:\n",
    "            alphabet.remove(x)\n",
    "    return alphabet == []\n",
    "\n",
    "ispangram(\"The Quick brown fox jumps over the lazy dog\")"
   ]
  },
  {
   "cell_type": "code",
   "execution_count": 46,
   "metadata": {},
   "outputs": [
    {
     "data": {
      "text/plain": [
       "True"
      ]
     },
     "execution_count": 46,
     "metadata": {},
     "output_type": "execute_result"
    }
   ],
   "source": [
    "# different approach\n",
    "\n",
    "import string\n",
    "\n",
    "def ispangram(s, alphabet=string.ascii_lowercase):\n",
    "    str1=set(s.lower())\n",
    "    for x in alphabet:\n",
    "        if x not in s:\n",
    "            return False\n",
    "    return True\n",
    "\n",
    "ispangram(\"The quick brown fox jumps over the lazy dog\")"
   ]
  },
  {
   "cell_type": "code",
   "execution_count": 47,
   "metadata": {},
   "outputs": [
    {
     "data": {
      "text/plain": [
       "True"
      ]
     },
     "execution_count": 47,
     "metadata": {},
     "output_type": "execute_result"
    }
   ],
   "source": [
    "# different approach\n",
    "\n",
    "import string\n",
    "\n",
    "def ispangram(s, alphabet=string.ascii_lowercase):  \n",
    "    return set(alphabet) <= set(s.lower())\n",
    "\n",
    "ispangram(\"The quick brown fox jumps over the lazy dog\")"
   ]
  },
  {
   "cell_type": "markdown",
   "metadata": {},
   "source": [
    "## Anagram\n",
    "\n",
    "Write a Python function to find anagrams in a list."
   ]
  },
  {
   "cell_type": "code",
   "execution_count": 48,
   "metadata": {},
   "outputs": [
    {
     "name": "stdout",
     "output_type": "stream",
     "text": [
      "{'ahjo': ['ahoj', 'joha'], 'kuu': ['uku', 'kuu', 'uuk']}\n"
     ]
    },
    {
     "data": {
      "text/plain": [
       "[['ahoj', 'joha'], ['uku', 'kuu', 'uuk']]"
      ]
     },
     "execution_count": 48,
     "metadata": {},
     "output_type": "execute_result"
    }
   ],
   "source": [
    "def anagrams(mylist):\n",
    "    d={}\n",
    "    for x in mylist:\n",
    "        if ''.join(sorted(x.lower())) not in d:\n",
    "            d[''.join(sorted(x.lower()))]=[x]\n",
    "        else:\n",
    "            d[''.join(sorted(x.lower()))].append(x)   \n",
    "    print(d)\n",
    "    return list(d.values())\n",
    "    \n",
    "anagrams([\"ahoj\",\"uku\",\"kuu\",\"joha\",\"uuk\"])"
   ]
  },
  {
   "cell_type": "markdown",
   "metadata": {},
   "source": [
    "## Fibonachi sequence\n",
    "\n",
    "Write a Python function to create the Fibonachi sequence - b is sum of last two numbers."
   ]
  },
  {
   "cell_type": "code",
   "execution_count": 49,
   "metadata": {},
   "outputs": [
    {
     "name": "stdout",
     "output_type": "stream",
     "text": [
      "[0, 1, 1, 2, 3, 5, 8, 13, 21, 34, 55]\n"
     ]
    },
    {
     "data": {
      "text/plain": [
       "55"
      ]
     },
     "execution_count": 49,
     "metadata": {},
     "output_type": "execute_result"
    }
   ],
   "source": [
    "def fibon(n):\n",
    "    sequence=[0,1]\n",
    "    for y in range(1,n):\n",
    "        sequence.append(sequence[y]+sequence[y-1])\n",
    "    print(sequence)\n",
    "    return sequence[n]\n",
    "\n",
    "fibon(10)"
   ]
  },
  {
   "cell_type": "code",
   "execution_count": 50,
   "metadata": {},
   "outputs": [
    {
     "data": {
      "text/plain": [
       "[1, 1, 2, 3, 5, 8, 13, 21, 34, 55]"
      ]
     },
     "execution_count": 50,
     "metadata": {},
     "output_type": "execute_result"
    }
   ],
   "source": [
    "# Different approach \n",
    "\n",
    "def fibon(n):\n",
    "    a=1\n",
    "    b=1\n",
    "    sequence=[]\n",
    "    for i in range(n):\n",
    "        sequence.append(a)\n",
    "        a,b = b,a+b\n",
    "    return sequence\n",
    "\n",
    "fibon(10)"
   ]
  },
  {
   "cell_type": "code",
   "execution_count": 51,
   "metadata": {},
   "outputs": [
    {
     "name": "stdout",
     "output_type": "stream",
     "text": [
      "1\n",
      "1\n",
      "2\n",
      "3\n",
      "5\n",
      "8\n",
      "13\n",
      "21\n",
      "34\n",
      "55\n"
     ]
    }
   ],
   "source": [
    "# Different approach (using generator)\n",
    "\n",
    "def fibon(n):\n",
    "    a=1\n",
    "    b=1\n",
    "    for i in range(n):\n",
    "        yield a\n",
    "        a,b = b,a+b\n",
    "        \n",
    "for number in fibon(10):\n",
    "    print(number)"
   ]
  },
  {
   "cell_type": "markdown",
   "metadata": {},
   "source": [
    "## Number reverse\n",
    "\n",
    "Write a program to reverse the digits of an integer."
   ]
  },
  {
   "cell_type": "code",
   "execution_count": 52,
   "metadata": {},
   "outputs": [
    {
     "data": {
      "text/plain": [
       "87654321"
      ]
     },
     "execution_count": 52,
     "metadata": {},
     "output_type": "execute_result"
    }
   ],
   "source": [
    "num = 12345678\n",
    "num_list = list(str(num))\n",
    "num_list.reverse()\n",
    "result = int(\"\".join(num_list))\n",
    "result"
   ]
  },
  {
   "cell_type": "code",
   "execution_count": 53,
   "metadata": {},
   "outputs": [
    {
     "data": {
      "text/plain": [
       "2654"
      ]
     },
     "execution_count": 53,
     "metadata": {},
     "output_type": "execute_result"
    }
   ],
   "source": [
    "# different approach\n",
    "\n",
    "n = 4562\n",
    "rev = 0\n",
    " \n",
    "while(n > 0):\n",
    "    a = n % 10\n",
    "    rev = rev * 10 + a\n",
    "    n = n // 10\n",
    "\n",
    "rev"
   ]
  },
  {
   "cell_type": "markdown",
   "metadata": {},
   "source": [
    "## Factorial\n",
    "\n",
    "Write a recursive function that returns the factorial of an integer."
   ]
  },
  {
   "cell_type": "code",
   "execution_count": 54,
   "metadata": {},
   "outputs": [
    {
     "data": {
      "text/plain": [
       "True"
      ]
     },
     "execution_count": 54,
     "metadata": {},
     "output_type": "execute_result"
    }
   ],
   "source": [
    "def factorial(n):\n",
    "    if n == 0:\n",
    "        return 1\n",
    "    return n * factorial(n-1)\n",
    "\n",
    "factorial(0) == 1 and factorial(1) == 1 and factorial(5) == 120"
   ]
  },
  {
   "cell_type": "markdown",
   "metadata": {},
   "source": [
    "## Power\n",
    "\n",
    "Write a function that returns the value of x to the power of y: (x**y), pow(x,y)"
   ]
  },
  {
   "cell_type": "code",
   "execution_count": 55,
   "metadata": {},
   "outputs": [
    {
     "name": "stdout",
     "output_type": "stream",
     "text": [
      "au\n",
      "au\n",
      "au\n",
      "au\n",
      "au\n",
      "au\n",
      "au\n",
      "au\n",
      "au\n",
      "au\n"
     ]
    },
    {
     "data": {
      "text/plain": [
       "1024"
      ]
     },
     "execution_count": 55,
     "metadata": {},
     "output_type": "execute_result"
    }
   ],
   "source": [
    "# iterative solution\n",
    "\n",
    "def powi(x,y):\n",
    "    result = 1 # y=0 -> result=1\n",
    "    for i in range (0,abs(y)):\n",
    "        result *= x \n",
    "        print(\"au\") # y-times multiplied - more time consuming\n",
    "        \n",
    "    if y < 0:\n",
    "        return 1/result\n",
    "    \n",
    "    return result\n",
    "    \n",
    "powi(2,10)"
   ]
  },
  {
   "cell_type": "code",
   "execution_count": 56,
   "metadata": {},
   "outputs": [
    {
     "name": "stdout",
     "output_type": "stream",
     "text": [
      "au\n",
      "au\n",
      "au\n",
      "au\n",
      "au\n"
     ]
    },
    {
     "data": {
      "text/plain": [
       "1024"
      ]
     },
     "execution_count": 56,
     "metadata": {},
     "output_type": "execute_result"
    }
   ],
   "source": [
    "# recursive solution\n",
    "\n",
    "# 2^4 = (2*2*2*2) = (2^2 * 2^2) = (2^1 * 2^1) * (2^1 * 2^1) = (2^0 * 2^0 * 2)^4\n",
    "# 2^5 = (2*2*2*2*2) = (2^2 * 2^2) * 2 = ... = (2^0 * 2^0 * 2)^4 * 2\n",
    "\n",
    "def powi(x,y):\n",
    "    print(\"au\")\n",
    "    if y < 0:\n",
    "        return 1/powi(x,-y)\n",
    "    \n",
    "    if y == 0:\n",
    "        return 1\n",
    "    \n",
    "    if y %2 ==0:\n",
    "        q = powi(x,y//2)\n",
    "        return q*q\n",
    "    \n",
    "    else:\n",
    "        q= powi(x,y//2)\n",
    "        return q*q*x\n",
    "\n",
    "\n",
    "powi(2,10)"
   ]
  },
  {
   "cell_type": "markdown",
   "metadata": {},
   "source": [
    "## Binary search\n",
    "\n",
    "Given an array of integers nums which is sorted in ascending order, and an integer target, write a function to search target in nums. If target exists, then return its index. Otherwise, return -1.\n",
    "\n",
    "You must write an algorithm with O(log n) runtime complexity."
   ]
  },
  {
   "cell_type": "code",
   "execution_count": 57,
   "metadata": {},
   "outputs": [
    {
     "data": {
      "text/plain": [
       "True"
      ]
     },
     "execution_count": 57,
     "metadata": {},
     "output_type": "execute_result"
    }
   ],
   "source": [
    "# runtime O(n) (time consuming):\n",
    "\n",
    "def find(mylist,x):\n",
    "    for i in range(0,len(mylist)):\n",
    "        if mylist[i] == x:\n",
    "            return i\n",
    "    return -1\n",
    "    \n",
    "find([1,2,3,4,5],5) == 4 and find([1,2,3,4,5],6) == -1 "
   ]
  },
  {
   "cell_type": "code",
   "execution_count": 58,
   "metadata": {},
   "outputs": [
    {
     "data": {
      "text/plain": [
       "True"
      ]
     },
     "execution_count": 58,
     "metadata": {},
     "output_type": "execute_result"
    }
   ],
   "source": [
    "# runtime O(log n)\n",
    "\n",
    "def find(mylist,target):\n",
    "    low = 0\n",
    "    high = len(mylist)-1\n",
    "    while low <= high:\n",
    "        middle = low + (high-low)//2\n",
    "        if mylist[middle] > target:\n",
    "            high = middle - 1\n",
    "        elif mylist[middle] < target:\n",
    "            low = middle + 1\n",
    "        else:\n",
    "            return middle\n",
    "    return -1\n",
    "\n",
    "find([1,2,3,4,5],5) == 4 and find([1,2,3,4,5],6) == -1 "
   ]
  },
  {
   "cell_type": "markdown",
   "metadata": {},
   "source": [
    "## First Bad Version\n",
    "\n",
    "Find the first bad version in the list of booleans (using binary search)"
   ]
  },
  {
   "cell_type": "code",
   "execution_count": 59,
   "metadata": {},
   "outputs": [
    {
     "data": {
      "text/plain": [
       "True"
      ]
     },
     "execution_count": 59,
     "metadata": {},
     "output_type": "execute_result"
    }
   ],
   "source": [
    "def first_bad(mylist):\n",
    "    low = 0\n",
    "    high = len(mylist)-1\n",
    "    while low <= high:\n",
    "        middle = low + (high-low)//2\n",
    "        if mylist[middle] == False:\n",
    "            result = middle\n",
    "            high = middle - 1\n",
    "        else:\n",
    "            low = middle + 1\n",
    "    return result\n",
    "\n",
    "first_bad([True,True,True,True,True,True,True,False,False,False]) == 7 and first_bad([True,True,True,False,False,False,False,False,False]) == 3 "
   ]
  },
  {
   "cell_type": "markdown",
   "metadata": {},
   "source": [
    "## Happy number\n",
    "\n",
    "Write a Python function to check whether a number is happy number or not. \n",
    "Happy number is a number which eventually reaches 1 when replaced by the sum of the square of each digit. \n",
    "\n",
    "13:\n",
    "\n",
    "    13 => 1, 3 => 1^2 + 3^2 => 10\n",
    "    \n",
    "    10 => 1, 0 => 1^2 + 0^2 => 1\n",
    "    \n",
    "    => 13 is happy number\n",
    "\n",
    "4:\n",
    "\n",
    "    4 => 4^2 => 16\n",
    "    \n",
    "    16 => 1, 6 => 1^2 + 6^2 => 37\n",
    "    \n",
    "    ...\n",
    "    \n",
    "    20 => 2, 0 => 2^2 + 0^2 => 4 \n",
    "    \n",
    "    => 4 is unhappy number"
   ]
  },
  {
   "cell_type": "code",
   "execution_count": 60,
   "metadata": {},
   "outputs": [
    {
     "data": {
      "text/plain": [
       "True"
      ]
     },
     "execution_count": 60,
     "metadata": {},
     "output_type": "execute_result"
    }
   ],
   "source": [
    "def toDigits(n):\n",
    "    result = []\n",
    "    while n > 0:\n",
    "        result.append(n % 10)\n",
    "        n= n // 10\n",
    "    return result\n",
    "        \n",
    "def isHappy(n):\n",
    "    results = []\n",
    "    \n",
    "    while n not in results:\n",
    "        digits = toDigits(n)\n",
    "        result = 0\n",
    "        for i in digits:\n",
    "            result += i*i\n",
    "        \n",
    "        if result == 1:\n",
    "            return True\n",
    "        results.append(n)\n",
    "        n = result\n",
    "    return False\n",
    "\n",
    "isHappy(4) == False and isHappy(13) == True and isHappy(556) == True and isHappy (557) == False"
   ]
  },
  {
   "cell_type": "code",
   "execution_count": 61,
   "metadata": {},
   "outputs": [
    {
     "data": {
      "text/plain": [
       "True"
      ]
     },
     "execution_count": 61,
     "metadata": {},
     "output_type": "execute_result"
    }
   ],
   "source": [
    "# list comprehension:\n",
    "\n",
    "def isHappy(n):\n",
    "    results = []\n",
    "    \n",
    "    while n not in results:\n",
    "        result = sum([i*i for i in toDigits(n)])\n",
    "        if result == 1:\n",
    "            return True\n",
    "        results.append(n)\n",
    "        n = result\n",
    "    return False\n",
    "\n",
    "isHappy(4) == False and isHappy(13) == True and isHappy(556) == True and isHappy (557) == False"
   ]
  },
  {
   "cell_type": "code",
   "execution_count": null,
   "metadata": {},
   "outputs": [],
   "source": []
  }
 ],
 "metadata": {
  "kernelspec": {
   "display_name": "Python 3 (ipykernel)",
   "language": "python",
   "name": "python3"
  },
  "language_info": {
   "codemirror_mode": {
    "name": "ipython",
    "version": 3
   },
   "file_extension": ".py",
   "mimetype": "text/x-python",
   "name": "python",
   "nbconvert_exporter": "python",
   "pygments_lexer": "ipython3",
   "version": "3.9.7"
  }
 },
 "nbformat": 4,
 "nbformat_minor": 2
}
